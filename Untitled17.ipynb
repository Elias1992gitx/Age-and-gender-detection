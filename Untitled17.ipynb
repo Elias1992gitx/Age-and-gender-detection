{
  "nbformat": 4,
  "nbformat_minor": 0,
  "metadata": {
    "colab": {
      "provenance": [],
      "authorship_tag": "ABX9TyMN/VNCkVGzx5jIH5eCotel",
      "include_colab_link": true
    },
    "kernelspec": {
      "name": "python3",
      "display_name": "Python 3"
    },
    "language_info": {
      "name": "python"
    }
  },
  "cells": [
    {
      "cell_type": "markdown",
      "metadata": {
        "id": "view-in-github",
        "colab_type": "text"
      },
      "source": [
        "<a href=\"https://colab.research.google.com/github/Elias1992gitx/Age-and-gender-detection/blob/main/Untitled17.ipynb\" target=\"_parent\"><img src=\"https://colab.research.google.com/assets/colab-badge.svg\" alt=\"Open In Colab\"/></a>"
      ]
    },
    {
      "cell_type": "code",
      "execution_count": 26,
      "metadata": {
        "id": "TF_zy1nuULcc"
      },
      "outputs": [],
      "source": [
        "import pandas as pd\n",
        "import xml.etree.ElementTree as ET\n",
        "from google.colab import files\n",
        "\n",
        "\n",
        "def csv_to_xml():\n",
        "    \"\"\"Allow user to upload a CSV file and convert it to XML format.\"\"\"\n",
        "\n",
        "    # ✅ Step 1: Upload the CSV file manually\n",
        "    uploaded = files.upload()\n",
        "\n",
        "    # ✅ Get the uploaded filename dynamically\n",
        "    csv_file = list(uploaded.keys())[0]\n",
        "    xml_file = csv_file.replace(\".csv\", \"-populated.xml\")  # Name XML file based on CSV\n",
        "\n",
        "    # ✅ Step 2: Load the CSV file\n",
        "    df = pd.read_csv(csv_file)\n",
        "\n",
        "    # ✅ Step 3: Create the root element (as per rhum.xml structure)\n",
        "    root = ET.Element(\"tsdatastore\")\n",
        "\n",
        "    # Determine the start date based on the earliest available data\n",
        "    start_date = f\"{df['YEAR'].min()}-{df['MO'].min():02d}-{df['DY'].min():02d} 00:00\"\n",
        "\n",
        "    # ✅ Step 4: Add time interval section\n",
        "    time_interval = ET.SubElement(root, \"timeinterval\")\n",
        "    ET.SubElement(time_interval, \"start\", value=start_date)\n",
        "    ET.SubElement(time_interval, \"end\", value=f\"{df['YEAR'].max()}-12-31 00:00\")\n",
        "    ET.SubElement(time_interval, \"stepsize\", unit=\"24\", count=\"1\")\n",
        "    ET.SubElement(time_interval, \"dumptimeformat\", value=\"yyyy-MM-dd HH:mm\")\n",
        "\n",
        "    # ✅ Step 5: Add parameter section\n",
        "    parameter = ET.SubElement(root, \"parameter\")\n",
        "    ET.SubElement(parameter, \"buffersize\", value=\"20\")\n",
        "    ET.SubElement(parameter, \"accessmode\", value=\"1\")\n",
        "    ET.SubElement(parameter, \"missingdatavalue\", value=\"-9999.0\")\n",
        "\n",
        "    # ✅ Step 6: Add description section (empty)\n",
        "    ET.SubElement(root, \"description\")\n",
        "\n",
        "    # ✅ Step 7: Add dataio section (database connection settings)\n",
        "    dataio = ET.SubElement(root, \"dataio\")\n",
        "    variables = ET.SubElement(dataio, \"variables\")\n",
        "    ET.SubElement(variables, \"var\", id=\"user\", value=\"jams\")\n",
        "    ET.SubElement(variables, \"var\", id=\"password\", value=\"readonly\")\n",
        "    ET.SubElement(variables, \"var\", id=\"host\", value=\"localhost\")\n",
        "    ET.SubElement(variables, \"var\", id=\"risdb\", value=\"obis\")\n",
        "    ET.SubElement(variables, \"var\", id=\"tsdb\", value=\"obisTSData\")\n",
        "\n",
        "    # ✅ Step 8: Add database plugin\n",
        "    plugin = ET.SubElement(dataio, \"plugin\", id=\"DataReader1\", type=\"jams.workspace.plugins.JdbcSQL\")\n",
        "    ET.SubElement(plugin, \"parameter\", id=\"user\", varid=\"user\")\n",
        "    ET.SubElement(plugin, \"parameter\", id=\"password\", varid=\"password\")\n",
        "    ET.SubElement(plugin, \"parameter\", id=\"host\", varid=\"host\")\n",
        "    ET.SubElement(plugin, \"parameter\", id=\"db\", varid=\"tsdb\")\n",
        "    ET.SubElement(plugin, \"parameter\", id=\"query\", value=\"SELECT timestamp, value FROM TemperatureData ORDER BY timestamp\")\n",
        "\n",
        "    # ✅ Step 9: Add metadata section\n",
        "    metadata = ET.SubElement(root, \"metadata\")\n",
        "    ET.SubElement(metadata, \"row\", id=\"ID\", type=\"java.lang.Long\")\n",
        "    ET.SubElement(metadata, \"row\", id=\"NAME\", type=\"java.lang.String\")\n",
        "    ET.SubElement(metadata, \"row\", id=\"X\", type=\"java.lang.Double\")\n",
        "    ET.SubElement(metadata, \"row\", id=\"Y\", type=\"java.lang.Double\")\n",
        "    ET.SubElement(metadata, \"row\", id=\"ELEVATION\", type=\"java.lang.Double\")\n",
        "    ET.SubElement(metadata, \"row\", id=\"UNIT\", type=\"java.lang.String\")\n",
        "    ET.SubElement(metadata, \"row\", id=\"PARAMETER\", type=\"java.lang.String\")\n",
        "\n",
        "    # ✅ Step 10: Dynamically add columns that contain actual data\n",
        "    valid_columns = [col for col in df.columns[3:] if df[col].notna().any()]  # Skip YEAR, MO, DY\n",
        "\n",
        "    for i, col in enumerate(valid_columns):\n",
        "        ET.SubElement(metadata, \"column\", id=str(i+1), type=\"java.lang.Double\", metadataio=\"MetadataReader1\", source=\"1\")\n",
        "\n",
        "    # ✅ Step 11: Add data section and populate with actual temperature values\n",
        "    data_section = ET.SubElement(root, \"data\")\n",
        "\n",
        "    for _, row in df.iterrows():\n",
        "        record = ET.SubElement(data_section, \"record\", year=str(row[\"YEAR\"]), month=str(row[\"MO\"]), day=str(row[\"DY\"]))\n",
        "        for i, col in enumerate(valid_columns):\n",
        "            value = str(row[col]) if pd.notna(row[col]) else \"-9999\"\n",
        "            ET.SubElement(record, f\"column_{i+1}\").text = value\n",
        "\n",
        "    # ✅ Step 12: Save the XML file\n",
        "    tree = ET.ElementTree(root)\n",
        "    tree.write(xml_file, encoding=\"ISO-8859-1\", xml_declaration=True)\n",
        "\n",
        "    # ✅ Step 13: Provide XML file for download\n",
        "    files.download(xml_file)\n",
        "    print(f\"✅ XML file '{xml_file}' has been created and is ready for download.\")\n",
        "\n"
      ]
    },
    {
      "cell_type": "code",
      "source": [
        "  # Run the function\n",
        "  csv_to_xml()"
      ],
      "metadata": {
        "id": "oR3flVCZjDfs"
      },
      "execution_count": null,
      "outputs": []
    }
  ]
}